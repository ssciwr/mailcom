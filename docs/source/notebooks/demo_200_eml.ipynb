{
 "cells": [
  {
   "cell_type": "markdown",
   "metadata": {},
   "source": [
    "# Notebook for testing Corpus 200 emails\n",
    "*Scientific Software Center, University of Heidelberg, April 2025*\n",
    "\n",
    "The dataset `Corpus 200 emails` contains 200 multilingual emails (Spanish, English, and Portuguese) formatted in accordance with the RFC2822 specification. Download the dataset [here](https://figshare.com/articles/dataset/Corpus_200_Emails/1326662?file=1936502)\n",
    "\n",
    "This notebook is based on the `demo.ipynb` and `performance_deno.ipynb` notebooks."
   ]
  },
  {
   "cell_type": "code",
   "execution_count": null,
   "metadata": {},
   "outputs": [],
   "source": [
    "import mailcom\n",
    "import pandas as pd\n",
    "from IPython.display import display, HTML"
   ]
  },
  {
   "cell_type": "markdown",
   "metadata": {},
   "source": [
    "A function highlights all named entities found in the text (simple version)."
   ]
  },
  {
   "cell_type": "code",
   "execution_count": null,
   "metadata": {},
   "outputs": [],
   "source": [
    "# a dictionary matching colors to the different entity types\n",
    "colors = {\n",
    "    \"LOC\": \"green\",\n",
    "    \"ORG\": \"blue\",\n",
    "    \"MISC\": \"yellow\",\n",
    "    \"PER\": \"red\"\n",
    "}\n",
    "\n",
    "# function for displaying the result using HTML\n",
    "def highlight_ne(text, ne_list):\n",
    "    if not ne_list:\n",
    "        return text\n",
    "    \n",
    "    # create a list of all entities with their positions\n",
    "    entities = []\n",
    "    for ne in ne_list:\n",
    "        # avoid substituting the same entity multiple times\n",
    "        if ne[\"word\"] not in entities and ne[\"entity_group\"] in colors:\n",
    "            entities.append((ne, colors.get(ne[\"entity_group\"])))\n",
    "\n",
    "    # replace entities with highlighted spans\n",
    "    text_chunks = []\n",
    "    last_idx = 0\n",
    "    for entity, color in entities:\n",
    "        ent_word = entity[\"word\"]\n",
    "        s_idx = entity[\"start\"]\n",
    "        e_idx = entity[\"end\"]\n",
    "        # add text before the entity\n",
    "        text_chunks.append(text[last_idx:s_idx].replace(\"<\", \"&lt;\").replace(\">\", \"&gt;\"))\n",
    "        # add the entity with a span\n",
    "        # assume that the entity does not have any HTML tags\n",
    "        replacement = f\"<span style=\\\"background-color:{color}\\\">{ent_word}</span>\"\n",
    "        text_chunks.append(replacement)\n",
    "        last_idx = e_idx\n",
    "    # add the remaining text\n",
    "    text_chunks.append(text[last_idx:].replace(\"<\", \"&lt;\").replace(\">\", \"&gt;\"))\n",
    "    # join all text chunks\n",
    "    result = \"\".join(text_chunks)\n",
    "    \n",
    "    return result"
   ]
  },
  {
   "cell_type": "markdown",
   "metadata": {},
   "source": [
    "Load default workflow settings, but omit the default language to activate language detection feature. For simplicity, the updated settings will not be saved."
   ]
  },
  {
   "cell_type": "code",
   "execution_count": null,
   "metadata": {},
   "outputs": [],
   "source": [
    "# activate language detection\n",
    "new_settings = {\"default_lang\": \"\"}\n",
    "workflow_settings = mailcom.get_workflow_settings(new_settings=new_settings, \n",
    "                                                  save_updated_settings=False)"
   ]
  },
  {
   "cell_type": "markdown",
   "metadata": {},
   "source": [
    "Import eml files from the corpus to an input handler."
   ]
  },
  {
   "cell_type": "code",
   "execution_count": null,
   "metadata": {},
   "outputs": [],
   "source": [
    "# import files from input_dir - change this to your own directory\n",
    "input_dir = \"../../../mailcom/test/data_extended/200_eml\"\n",
    "input_handler = mailcom.get_input_handler(in_path=input_dir, in_type=\"dir\")"
   ]
  },
  {
   "cell_type": "markdown",
   "metadata": {},
   "source": [
    "Process eml files. By default, all processing steps are enabled."
   ]
  },
  {
   "cell_type": "code",
   "execution_count": null,
   "metadata": {},
   "outputs": [],
   "source": [
    "# process the input data\n",
    "mailcom.process_data(input_handler.get_email_list(), workflow_settings)"
   ]
  },
  {
   "cell_type": "markdown",
   "metadata": {},
   "source": [
    "The input text is displayed and the found named entities are highlighted for demonstration.\n",
    "\n",
    "Note that emails (all words containing '@') are filtered out seperately and thus not highlighted here."
   ]
  },
  {
   "cell_type": "code",
   "execution_count": null,
   "metadata": {},
   "outputs": [],
   "source": [
    "# loop over mails and display the highlights\n",
    "for email in input_handler.get_email_list():\n",
    "    # get NE for each sentence in the email\n",
    "    ne_sent_dict = {}\n",
    "    for sent_idx, ne in zip(email[\"ne_sent\"], email[\"ne_list\"]):\n",
    "        if str(sent_idx) not in ne_sent_dict:\n",
    "            ne_sent_dict[str(sent_idx)] = []\n",
    "        ne_sent_dict[str(sent_idx)].append(ne)\n",
    "\n",
    "    # display original text and highlight found and replaced NEs\n",
    "    html_content = []\n",
    "    for sent_idx, sentence in enumerate(email[\"sentences\"]):\n",
    "        ne_list = ne_sent_dict.get(str(sent_idx), [])\n",
    "        highlighted_html = highlight_ne(sentence, ne_list)\n",
    "        html_content.append(highlighted_html)\n",
    "    display(HTML(\" \".join(html_content)))"
   ]
  },
  {
   "cell_type": "markdown",
   "metadata": {},
   "source": [
    "Manually check important fields, including `lang`, `detected_datetime`, `pseudo_content`, and `ne_list`."
   ]
  },
  {
   "cell_type": "code",
   "execution_count": null,
   "metadata": {},
   "outputs": [],
   "source": [
    "for email in input_handler.get_email_list():\n",
    "    print(\"= Email language =======\\n\", email[\"lang\"])\n",
    "    print(\"= Detected dates =======\\n\", email[\"detected_datetime\"])\n",
    "    print(\"= Pseudo content =======\\n\", email[\"pseudo_content\"])\n",
    "    print(\"= NE list =======\")\n",
    "    for ne in email[\"ne_list\"]:\n",
    "        print(\"  -\", ne[\"word\"], \" - \", ne[\"entity_group\"], \" - \", ne[\"start\"], \" - \", ne[\"end\"])\n",
    "    print(\"= Sentences =======\\n\")\n",
    "    for idx, sent in enumerate(email[\"sentences\"]):\n",
    "        print(f\"  {idx}- {sent}\")\n",
    "    print(\"\\n\")"
   ]
  },
  {
   "cell_type": "markdown",
   "metadata": {},
   "source": [
    "Save the output in a `pandas` dataframe."
   ]
  },
  {
   "cell_type": "code",
   "execution_count": null,
   "metadata": {},
   "outputs": [],
   "source": [
    "# write output to pandas df\n",
    "df = pd.DataFrame(input_handler.get_email_list())"
   ]
  },
  {
   "cell_type": "markdown",
   "metadata": {},
   "source": [
    "The output can be saved as a csv file as well."
   ]
  },
  {
   "cell_type": "code",
   "execution_count": null,
   "metadata": {},
   "outputs": [],
   "source": [
    "# set overwrite to True to overwrite the existing file\n",
    "mailcom.write_output_data(input_handler, \"../../../data/out/200_eml.csv\", overwrite=True)"
   ]
  }
 ],
 "metadata": {
  "kernelspec": {
   "display_name": "mailcom",
   "language": "python",
   "name": "python3"
  },
  "language_info": {
   "codemirror_mode": {
    "name": "ipython",
    "version": 3
   },
   "file_extension": ".py",
   "mimetype": "text/x-python",
   "name": "python",
   "nbconvert_exporter": "python",
   "pygments_lexer": "ipython3",
   "version": "3.12.9"
  }
 },
 "nbformat": 4,
 "nbformat_minor": 2
}
