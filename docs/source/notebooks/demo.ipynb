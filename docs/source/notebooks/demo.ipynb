{
 "cells": [
  {
   "cell_type": "markdown",
   "metadata": {},
   "source": [
    "# Demonstration notebook for the mailcom package\n",
    "*Scientific Software Center, University of Heidelberg, December 2024*  \n",
    "The `mailcom` package is used to anonymize/pseudonymize textual data, i.e. email content. It takes an `eml` or `html` file as input and extracts information about attachements, number of attachements and type, and the content of the email body. The latter is then parsed through [`spaCy`](https://spacy.io/) and divided into sentences. The sentences are fed to a [`transformers`](https://huggingface.co/docs/transformers/en/index) named entity recognition (NER) [pipeline](https://huggingface.co/docs/transformers/v4.46.3/en/main_classes/pipelines), and person names, places, organizations, miscellaneous, are detected in the inference task. Names are replaced by pseudos, while locations, organizations and miscellaneous are replaced by `[location]`, `[organization]` and `[misc]`. The text is further parsed using string methods, to replace any numbers with `[number]` and email addresses with `[email]`. The processed text and metadata can then be written to an `xml` file or into a pandas dataframe.\n",
    "\n",
    "Please note that 100% accuracy is not possible with this task. Any output needs to be further checked by a human to ensure the text has been anonymized completely.\n",
    "\n",
    "The current set-up is for Romance languages, however [other language models](https://spacy.io/usage/models) can also be loaded into the spaCy pipeline. The transformers pipeline uses the `xlm-roberta-large-finetuned-conll03-english` model revision number `18f95e9` by default, but other models can also be passed (see below).\n",
    "\n",
    "Before using the `mailcom` package, please install it into your conda environment using\n",
    "```\n",
    "pip install mailcom\n",
    "```\n",
    "After that, select the appropriate kernel for your Jupyter notebook and execute the cell below to import the package. The package is currently under active development and any function calls are subject to changes."
   ]
  },
  {
   "cell_type": "code",
   "execution_count": null,
   "metadata": {},
   "outputs": [],
   "source": [
    "import mailcom\n",
    "import pandas as pd\n",
    "from IPython.display import display, HTML"
   ]
  },
  {
   "cell_type": "markdown",
   "metadata": {},
   "source": [
    "The cell below defines a function used to display the result in the end, and highlight all named entities found in the text. It is used for demonstration purposes in this example.\n",
    "\n",
    "Generally, this is a simple approach at highlighting the replaced pseudonyms, but the method itself is prone to errors and should only be used with care when assessing if the text has been anonymized correctly."
   ]
  },
  {
   "cell_type": "code",
   "execution_count": null,
   "metadata": {},
   "outputs": [],
   "source": [
    "# a dictionary matching colors to the different entity types\n",
    "colors = {\n",
    "    \"LOC\": \"green\",\n",
    "    \"ORG\": \"blue\",\n",
    "    \"MISC\": \"yellow\",\n",
    "    \"PER\": \"red\"\n",
    "}\n",
    "\n",
    "# function for displaying the result using HTML\n",
    "def highlight_ne(text, ne_list):\n",
    "    # create a list of all entities with their positions\n",
    "    entities = []\n",
    "    for ne in ne_list:\n",
    "        # avoid substituting the same entity multiple times\n",
    "        if ne[\"word\"] not in entities and ne[\"entity_group\"] in colors:\n",
    "            entities.append((ne, colors.get(ne[\"entity_group\"])))\n",
    "    \n",
    "    # sort entities by their positions in the text in reverse order\n",
    "    # is this necessary?\n",
    "    # entities = sorted(entities, key=lambda x: x[0][\"start\"], reverse=True)\n",
    "\n",
    "    # replace all \"<\" and \">\" which may mess up spans\n",
    "    text = text.replace(\"<\", \"&lt;\")\n",
    "    text = text.replace(\">\", \"&gt;\")\n",
    "    # replace entities with highlighted spans\n",
    "    for entity, color in entities:\n",
    "        ent_word = entity[\"word\"]\n",
    "        # I think it may be overwriting the already replaced ones\n",
    "        # Instead, maybe sort which ones are different and not a subset?\n",
    "        text = text.replace(ent_word, f\"<span style=\\\"background-color:{color}\\\">{ent_word}</span>\")\n",
    "    \n",
    "    return text"
   ]
  },
  {
   "cell_type": "markdown",
   "metadata": {},
   "source": [
    "All settings for the whole pseudonymize process are stored in the file `mailcom/default_settings.json`. You can customize them by:\n",
    "\n",
    "* Modifying `mailcom/default_settings.json` directly, or\n",
    "* Creating a new setting file, or\n",
    "* Updating specific fields when loading the settings\n",
    "\n",
    "Function `mailcom.get_workflow_settings()` is used to load the workflow settings, as follows:"
   ]
  },
  {
   "cell_type": "code",
   "execution_count": null,
   "metadata": {},
   "outputs": [],
   "source": [
    "# get workflow settings from a setting file\n",
    "setting_path = \"../mailcom/default_settings.json\"\n",
    "workflow_settings = mailcom.get_workflow_settings(setting_path=setting_path)\n",
    "\n",
    "# update some fields while loading the settings\n",
    "new_settings = {\"default_lang\": \"es\"}\n",
    "setting_dir = \"../mailcom/\"\n",
    "workflow_settings = mailcom.get_workflow_settings(new_settings=new_settings, \n",
    "                                                  updated_setting_dir= setting_dir,\n",
    "                                                  save_updated_settings=True)"
   ]
  },
  {
   "cell_type": "markdown",
   "metadata": {},
   "source": [
    "In the last example of the cell above, the updated settings are saved to a file. If `updated_setting_dir` is not provided, the file is saved in the current directory. To skip saving, set `save_updated_settings` to `False`.\n",
    "\n",
    "For this demo, we will use the default workflow settings:"
   ]
  },
  {
   "cell_type": "code",
   "execution_count": null,
   "metadata": {},
   "outputs": [],
   "source": [
    "# get default workflow settings\n",
    "workflow_settings = mailcom.get_workflow_settings()"
   ]
  },
  {
   "cell_type": "markdown",
   "metadata": {},
   "source": [
    "We currently support two types of input data: (1) `csv`file and (2) directory of `eml` and `html` files.\n",
    "\n",
    "Each row of the `csv`file, `eml` file, or `html` file will be stored in an email dictionary, with pre-defined keys: `content`, `date`, `attachment`, and `attachement type`."
   ]
  },
  {
   "cell_type": "markdown",
   "metadata": {},
   "source": [
    "When loading a `csv`file as an input, a list of columns in the file to map with the above pre-defined keys should be provided. For example:"
   ]
  },
  {
   "cell_type": "code",
   "execution_count": null,
   "metadata": {},
   "outputs": [],
   "source": [
    "# import data from a csv file - change this to your own file\n",
    "input_csv = \"../../../data/mails_lb_sg.csv\"\n",
    "unmatched_keyword = workflow_settings.get(\"csv_col_unmatched_keyword\")\n",
    "input_handler = mailcom.get_input_handler(in_path=input_csv, in_type=\"csv\", \n",
    "                                          col_names=[\"message\"], \n",
    "                                          init_data_fields=[\"content\"], \n",
    "                                          unmatched_keyword=unmatched_keyword)"
   ]
  },
  {
   "cell_type": "markdown",
   "metadata": {},
   "source": [
    "In the cell above, the `message` column from the `csv` file is mapped to the `content` key in the email dictionary, while other keys have `None` as their values.\n",
    "\n",
    "If the `csv` file lacks the `message` column, value of `content` is set to `unmatched_keyword`"
   ]
  },
  {
   "cell_type": "markdown",
   "metadata": {},
   "source": [
    "Below, the input files are loaded from the given `input_dir` directory into an input handler. You can provide relative or absolute paths to the directory that contains your `eml` or `html` files. All files of the `eml` or `html` file type in that directory will be considered input files."
   ]
  },
  {
   "cell_type": "code",
   "execution_count": null,
   "metadata": {},
   "outputs": [],
   "source": [
    "# import files from input_dir - change this to your own directory\n",
    "input_dir = \"../../../data/in/\"\n",
    "input_handler = mailcom.get_input_handler(in_path=input_dir, in_type=\"dir\")"
   ]
  },
  {
   "cell_type": "markdown",
   "metadata": {},
   "source": [
    "In the cell below, the emails are looped over and the email content is processed. Depending on the settings, each email content goes through the following steps:\n",
    "1. language detection (optional)\n",
    "2. date time detection (optional)\n",
    "3. email addresses pseudonymization (optional)\n",
    "4. name entities pseudonymization\n",
    "5. numbers pseudonymization (optional)\n",
    "\n",
    "For steps 3-5, the email content is divided into sentences, which are then pseudonymized. The modified sentences are recombined into a text and stored in the email dictionary under the key `\"pseudo_content\"`."
   ]
  },
  {
   "cell_type": "code",
   "execution_count": null,
   "metadata": {},
   "outputs": [],
   "source": [
    "# process the input data\n",
    "processed_data = mailcom.process_data(input_handler.get_email_list(), workflow_settings)"
   ]
  },
  {
   "cell_type": "markdown",
   "metadata": {},
   "source": [
    "The input text is displayed and the found named entities are highlighted for demonstration. Note that emails (all words containing '@') are filtered out seperately and thus not highlighted here."
   ]
  },
  {
   "cell_type": "code",
   "execution_count": null,
   "metadata": {},
   "outputs": [],
   "source": [
    "# loop over mails and display the highlights\n",
    "for email in input_handler.get_email_list():\n",
    "    # display original text and highlight found and replaced NEs\n",
    "    highlighted_html = highlight_ne(email[\"content\"], email[\"ne_list\"])\n",
    "    display(HTML(highlighted_html))"
   ]
  },
  {
   "cell_type": "markdown",
   "metadata": {},
   "source": [
    "After this, the output can be written to a file or processed further. The output is a list of dictionaries, each containing the metadata of the email and the pseudonymized content. In the below cell, the output is saved in a `pandas` dataframe."
   ]
  },
  {
   "cell_type": "code",
   "execution_count": null,
   "metadata": {},
   "outputs": [],
   "source": [
    "# write output to pandas df\n",
    "df = pd.DataFrame(input_handler.get_email_list())"
   ]
  },
  {
   "cell_type": "markdown",
   "metadata": {},
   "source": [
    "The output can be saved as a csv file as well."
   ]
  },
  {
   "cell_type": "code",
   "execution_count": null,
   "metadata": {},
   "outputs": [],
   "source": [
    "# set overwrite to True to overwrite the existing file\n",
    "mailcom.write_output_data(input_handler, \"../../../data/out/out_demo.csv\", overwrite=True)"
   ]
  }
 ],
 "metadata": {
  "kernelspec": {
   "display_name": "mailcom",
   "language": "python",
   "name": "python3"
  },
  "language_info": {
   "codemirror_mode": {
    "name": "ipython",
    "version": 3
   },
   "file_extension": ".py",
   "mimetype": "text/x-python",
   "name": "python",
   "nbconvert_exporter": "python",
   "pygments_lexer": "ipython3",
   "version": "3.12.9"
  }
 },
 "nbformat": 4,
 "nbformat_minor": 2
}
