{
 "cells": [
  {
   "cell_type": "markdown",
   "metadata": {},
   "source": [
    "# Demonstration notebook for the mailcom package\n",
    "\n",
    "*Scientific Software Center, University of Heidelberg, May 2025*  \n",
    "\n",
    "The `mailcom` package is used to anonymize/pseudonymize textual data, i.e. email content. It takes an `eml`, `html` or `csv` file as input and extracts information about attachements, number of attachements and type, and the content of the email body and subject line. The email body and subject line are then parsed through [`spaCy`](https://spacy.io/) and divided into sentences. The sentences are fed to a [`transformers`](https://huggingface.co/docs/transformers/en/index) named entity recognition (NER) [pipeline](https://huggingface.co/docs/transformers/v4.46.3/en/main_classes/pipelines), and person names, places, organizations, miscellaneous, are detected in the inference task. Names are replaced by pseudonyms, while locations, organizations and miscellaneous are replaced by `[location]`, `[organization]` and `[misc]`. The text is further parsed using string methods, to replace any numbers with `[number]` and email addresses with `[email]`. The processed text and metadata can then be written to an `xml` file or into a pandas dataframe.\n",
    "\n",
    "`mailcom` can automatically detect the (dominant) text language and also has the capability of preserving dates in the text (so that only numbers are replaced, but not patterns that match dates).\n",
    "\n",
    "Please note that 100% accuracy is not possible with this task. Any output needs to be further checked by a human to ensure the text has been anonymized completely.\n",
    "\n",
    "The current set-up is for Romance languages, however [other language models](https://spacy.io/usage/models) can also be loaded into the spaCy pipeline. The transformers pipeline uses the `xlm-roberta-large-finetuned-conll03-english` model revision number `18f95e9` by default, but other models can also be passed via the config file (see below).\n",
    "\n",
    "Before using the `mailcom` package, please install it into your conda environment using\n",
    "```\n",
    "pip install mailcom\n",
    "```\n",
    "After that, select the appropriate kernel for your Jupyter notebook and execute the cells below to import the package. The package is currently under active development and any function calls are subject to changes.\n",
    "\n",
    "You may also run this on google colab via the link provided in the repository."
   ]
  },
  {
   "cell_type": "code",
   "execution_count": null,
   "metadata": {},
   "outputs": [],
   "source": [
    "# if running on google colab\n",
    "# flake8-noqa-cell\n",
    "\n",
    "if \"google.colab\" in str(get_ipython()):\n",
    "    %pip install git+https://github.com/ssciwr/mailcom.git -qqq\n",
    "    # mount Google Drive to access files\n",
    "    from google.colab import drive\n",
    "\n",
    "    drive.mount(\"/content/drive\")"
   ]
  },
  {
   "cell_type": "code",
   "execution_count": null,
   "metadata": {},
   "outputs": [],
   "source": [
    "import mailcom\n",
    "import pandas as pd\n",
    "from IPython.display import display, HTML\n",
    "import pprint\n",
    "\n",
    "pp = pprint.PrettyPrinter(indent=4)"
   ]
  },
  {
   "cell_type": "markdown",
   "metadata": {},
   "source": [
    "## Processed text visualization\n",
    "\n",
    "The cells below define functionality used to display the result in the end, and highlight all named entities found in the text. It is used for demonstration purposes in this demo notebook."
   ]
  },
  {
   "cell_type": "code",
   "execution_count": null,
   "metadata": {},
   "outputs": [],
   "source": [
    "# a dictionary matching colors to the different entity types\n",
    "colors = {\n",
    "    \"LOC\": \"green\",\n",
    "    \"ORG\": \"blue\",\n",
    "    \"MISC\": \"yellow\",\n",
    "    \"PER\": \"red\"\n",
    "}"
   ]
  },
  {
   "cell_type": "markdown",
   "metadata": {},
   "source": [
    "The highlight function below is used to visualize what will be replaced in the text, but only after email addresses in the input text have been pseudonymized (i.e. replaced with `[email]`)."
   ]
  },
  {
   "cell_type": "code",
   "execution_count": null,
   "metadata": {},
   "outputs": [],
   "source": [
    "# function for displaying the result using HTML\n",
    "def highlight_ne_sent(text, ne_list):\n",
    "    if not ne_list:\n",
    "        return text\n",
    "    \n",
    "    # create a list of all entities with their positions\n",
    "    entities = []\n",
    "    for ne in ne_list:\n",
    "        # avoid substituting the same entity multiple times\n",
    "        if ne[\"word\"] not in entities and ne[\"entity_group\"] in colors:\n",
    "            entities.append((ne, colors.get(ne[\"entity_group\"])))\n",
    "\n",
    "    # replace entities with highlighted spans\n",
    "    text_chunks = []\n",
    "    last_idx = 0\n",
    "    for entity, color in entities:\n",
    "        ent_word = entity[\"word\"]\n",
    "        s_idx = entity[\"start\"]\n",
    "        e_idx = entity[\"end\"]\n",
    "        # add text before the entity\n",
    "        text_chunks.append(text[last_idx:s_idx].replace(\"<\", \"&lt;\").replace(\">\", \"&gt;\"))\n",
    "        # add the entity with a span\n",
    "        # assume that the entity does not have any HTML tags\n",
    "        replacement = f\"<span style=\\\"background-color:{color}\\\">{ent_word}</span>\"\n",
    "        text_chunks.append(replacement)\n",
    "        last_idx = e_idx\n",
    "    # add the remaining text\n",
    "    text_chunks.append(text[last_idx:].replace(\"<\", \"&lt;\").replace(\">\", \"&gt;\"))\n",
    "    # join all text chunks\n",
    "    result = \"\".join(text_chunks)\n",
    "    \n",
    "    return result"
   ]
  },
  {
   "cell_type": "markdown",
   "metadata": {},
   "source": [
    "## Configuring your text processing pipeline\n",
    "\n",
    "All settings for the whole text processing are stored in the file `mailcom/default_settings.json`. You can customize them by:\n",
    "\n",
    "* Modifying `mailcom/default_settings.json` directly, or\n",
    "* Creating a new configuration file, or\n",
    "* Updating specific fields when loading the configuration.\n",
    "\n",
    "The function `mailcom.get_workflow_settings()` is used to load the workflow settings. It will also store the updated settings to a directory provided as keyword."
   ]
  },
  {
   "cell_type": "code",
   "execution_count": null,
   "metadata": {},
   "outputs": [],
   "source": [
    "# get workflow settings from a configuration file\n",
    "setting_path = \"../../../mailcom/default_settings.json\"\n",
    "workflow_settings = mailcom.get_workflow_settings(setting_path=setting_path)\n",
    "\n",
    "# update some fields while loading the settings\n",
    "new_settings = {\"default_lang\": \"es\"}   \n",
    "# save the updated configuration to a file for reproducibility purposes\n",
    "new_settings_dir = \"../../../mailcom/\"\n",
    "workflow_settings = mailcom.get_workflow_settings(new_settings=new_settings, \n",
    "                                                  updated_setting_dir= new_settings_dir,\n",
    "                                                  save_updated_settings=True)"
   ]
  },
  {
   "cell_type": "markdown",
   "metadata": {},
   "source": [
    "In the last example of the cell above, the updated settings are saved to a file. If `updated_setting_dir` is not provided, the file is saved in the current directory. To skip saving, set `save_updated_settings` to `False`.\n",
    "\n",
    "For this demo, we will use the default workflow settings:"
   ]
  },
  {
   "cell_type": "code",
   "execution_count": null,
   "metadata": {},
   "outputs": [],
   "source": [
    "# get default workflow settings\n",
    "workflow_settings = mailcom.get_workflow_settings()"
   ]
  },
  {
   "cell_type": "markdown",
   "metadata": {},
   "source": [
    "The configuration options are:\n",
    "\n",
    "| keyword | options [default in parenthesis] | explanation |\n",
    "| ------- | ------ | ------ |\n",
    "| `default_lang` | [fr], es, pt | default language of the textual data |\n",
    "| `pseudo_emailaddresses` | [true], false | replace email addresses by [email] |\n",
    "| `pseudo_ne` | [true], false | replace named entities by pseudonyms |\n",
    "| `pseudo_numbers` | [true], false | replace numbers by [number] |\n",
    "| `ner_pipeline` | [null], [valid transformers model name, revision number, and pipeline, aggregation strategy] | the transformers pipeline to use for the NER | \n",
    "| `spacy_model` | [\"default\"], [valid spaCy model](https://spacy.io/models) | which spaCy model to use for the sentence splitting (see below) |\n",
    "\n",
    "These keywords set the options for the main processes of the `mailcom` package. The default language can be used for text that is always in the same language, that is, each email/html file or row of the csv contains data in the same language. If this is the case, processing is much faster. If not, the language of the text can be detected on-the-fly with options specified below. In this case, leave the default language empty, ie. `\"\"` an empty string.\n",
    "\n",
    "The keywords `pseudo_emailaddresses` and `pseudo_numbers` are by default set to `true`, which triggers the replacement of email addresses such as email@gmail.com by [email], and numbers such as 69120 by [number].\n",
    "\n",
    "By using `pseudo_ne`, the replacement of recognized entities by a pseudonym or spaceholder is triggered. A person's name, i.e. \"Michael\" is replaced by \"James\", a location like \"Paris\" is replaced by [location], an organization such as \"GitHub\" is replaced by [organization], and other entities like \"iPhone 15\" are replaced by [misc].\n",
    "\n",
    "All these three options related to replacement of identifying information can be triggered separately, but are set to `true` by default.\n",
    "\n",
    "An example for the transformers pipeline is this, with the default options:\n",
    "```python\n",
    "\"ner\": {\n",
    "    \"task\": \"token-classification\",\n",
    "    \"model\": \"xlm-roberta-large-finetuned-conll03-english\",\n",
    "    \"revision\": \"18f95e9\",\n",
    "    \"aggregation_strategy\": \"simple\",\n",
    "}\n",
    "```\n",
    "The task is `token-classification`, which is NER (for a description of the available tasks, see [here]((https://huggingface.co/docs/transformers/en/main_classes/pipelines))). The default model is Hugging Face's default model for this task and default revision number as of January 2025. The aggregation strategy determines how the tokens are aggregated after the pipeline; with `simple` the text is basically reconstructed as it was and the beginning and end of each recognized NER is given in accordance. The options `task` and `aggregation_strategy` are not likely to be changed by the user, however you may want to use a different model and revision number, which is possible using the `ner_pipeline` keyword.\n",
    "\n",
    "The keyword `spacy_model` sets the model to use for the sentencizing. It is important that the initial text is split into sentences with a high accuracy, since this directly affects the subsequent NER accuracy. If the keyword is set to `default`, the models that spaCy uses as default for the given language is used. Some of the default models are:\n",
    "```\n",
    "\"es\": \"es_core_news_md\"\n",
    "\"fr\": \"fr_core_news_md\"\n",
    "\"de\": \"de_core_news_md\"\n",
    "\"pt\": \"pt_core_news_md\"\n",
    "```\n",
    "Other models can directly be passed using this keyword, see the [spaCy reference](https://spacy.io/models). To extend the available languages in `mailcom`, this list needs to be extended. Please also note that not all spaCy models have pipelines with the necessary components.\n",
    "\n",
    "`mailcom` has additional capabilities that can be used to enhance the text processing:\n",
    "| keyword | options [default in parenthesis] | explanation |\n",
    "| ------- | ------ | ------ |\n",
    "| `lang_detection_lib` | [[\"langid\"]](https://github.com/saffsd/langid.py), [\"langdetect\"](https://github.com/Mimino666/langdetect), [\"trans\"](https://huggingface.co/papluca/xlm-roberta-base-language-detection) | automatically detect language of each text using the specified library |\n",
    "| `lang_pipeline` | [null], {\"task\": \"text-classification\"}, [for others see here](https://huggingface.co/docs/transformers/en/main_classes/pipelines) | the pipeline to use for the language detection, only valid for transformers language detection |\n",
    "| `datetime_detection` | [true], false | detect dates and retain them in the text |\n",
    "| `time_parsing` | [\"non-strict\"], \"strict\" | the pattern matching used to detect date/time patterns in the text (see below) |\n",
    "\n",
    "The first keyword in this table, `lang_detection_lib`, enables dynamic detection of the language. While this increases the processing time, it is crucial for correct sentence splitting when multiple languages are present in the data. In principle, the language can be determined for each sentence; but the general use of this capability is language detection per eml/html file/row in the csv file. Please note that the default language must not be set for this option to be triggered (`default_lang=\"\"`)! Three different libraries are available for language detection, [`langid`](https://github.com/saffsd/langid.py), [`langdetect`](https://github.com/Mimino666/langdetect), [`transformers`](https://huggingface.co/papluca/xlm-roberta-base-language-detection), that all lead to a similar performance on our test set. With the language detected dynamically, the spaCy model for sentence splitting is also set dynamically based on the detected language for each file/row; this should be combined with the `default` option for the spaCy model in order to work correctly.\n",
    "\n",
    "Using the keyword `datetime_detection`, `mailcom` can detect patterns that match dates, such as \"09 février 2009\" or \"April 17th 2024\" for `\"non-strict\"` parsing. These patterns can then be protected from the replacement of numbers, which would result in (for these examples) \"[number] février [number]\" or \"April [number]th [number]\". This feature could be important in texts in which chronology is not easy to follow, or where it is important to retain any information about time in the data.\n",
    "\n",
    "Setting the `time_parsing` to `\"strict\"`, only dates such as \"17.04.2024\" or \"17/04/2024\" are detected, not using the more advanced pattern matching rules as in \"April 17th 2024\".\n",
    "\n",
    "The input data can be provided as eml or html files, or as a csv file. For reading a csv file, more information about the column names needs to be provided. This is explained in the [demo notebook](docs/source/notebooks/demo.ipynb) (click here to [![Open In Colab](https://colab.research.google.com/assets/colab-badge.svg)](https://colab.research.google.com/github/ssciwr/mailcom/blob/main/docs/source/notebooks/demo.ipynb)).\n",
    "\n",
    "First and last names are replaced by pseudonyms. To make the pseudonimized text read more smoothly, names that are common for a specific language can be chosen; but basically any names can be set for any language using the `pseudo_first_names` keyword. The default option is:\n",
    "```python\n",
    "pseudo_first_names = {\n",
    "        \"es\": [\n",
    "            \"José\",\n",
    "            \"Angel\",\n",
    "            \"Alex\",\n",
    "            \"Ariel\",\n",
    "            \"Cruz\",\n",
    "            \"Fran\",\n",
    "            \"Arlo\",\n",
    "            \"Adri\",\n",
    "            \"Marce\",\n",
    "            \"Mati\"\n",
    "        ],\n",
    "        \"fr\": [\n",
    "            \"Claude\",\n",
    "            \"Dominique\",\n",
    "            \"Claude\",\n",
    "            \"Camille\",\n",
    "            \"Charlie\",\n",
    "            \"Florence\",\n",
    "            \"Francis\",\n",
    "            \"Maxime\",\n",
    "            \"Remy\",\n",
    "            \"Cécile\"\n",
    "        ],\n",
    "        \"de\": [\"Mika\"]\n",
    "    }\n",
    "```\n"
   ]
  },
  {
   "cell_type": "markdown",
   "metadata": {},
   "source": [
    "## Reading input data\n",
    "\n",
    "We currently support two types of input data: (1) a `csv`file and (2) a directory of `eml` and/or `html` files.\n",
    "\n",
    "Each row of the `csv`file, `eml` file, or `html` file will be stored in a dictionary, with pre-defined keys: `file_name`, `content`, `date`, `attachment`, `attachement type` and `subject`.\n",
    "\n",
    "**Of these pre-defined keys, only `content` will be processed through the pipeline, all other information is retained as is.**"
   ]
  },
  {
   "cell_type": "markdown",
   "metadata": {},
   "source": [
    "### Reading from a `csv` file\n",
    "\n",
    "When loading a `csv`file as an input, a list of columns in the file to map with the above pre-defined keys should be provided, in the correct order:\n",
    "\n",
    "pre-defined keys `init_data_fields` = `file_name`, `content`, `subject`, `date`, `attachment`, `attachement type`  \n",
    "matching columns `col_names` = `id`, `message`, `time`, `attachement`, `attachement_type`, `summary`\n",
    "\n",
    "If there are fewer columns in the csv than pre-defined keys, the remaining pre-defined keys will be set to `None` in the processing. So it is save to provide an input like this:\n",
    "\n",
    "pre-defined keys `init_data_fields` = `file_name`, `content`  \n",
    "matching columns `col_names` = `id`, `message`\n",
    "\n",
    "If there are more columns than pre-defined keys, these will labeled with a string provided in the configuration file, keyword `csv_col_unmatched_keyword`. This keyword is set to `\"unmatched\"` per default, but can be updated by the user through modifying the configuration file/passing a new value to this keyword.\n",
    "\n",
    "pre-defined keys `init_data_fields` = `file_name`, `content`  \n",
    "matching columns `col_names` = `id`, `message`; any additional columns will be named `unmatched`.\n",
    "\n",
    "The examples below shall serve to demonstrate the input options and resulting behaviour of `mailcom` when processing `csv` files."
   ]
  },
  {
   "cell_type": "code",
   "execution_count": null,
   "metadata": {},
   "outputs": [],
   "source": [
    "# path to your csv file - change this to your own file\n",
    "input_csv = \"../../../data/in/sample_data.csv\"\n",
    "# the columns of the csv that should be passed through the processing pipeline/retained in the pipeline\n",
    "matching_columns = [\"message\", \"date\", \"attachment\", \"attachement_type\", \"subject\"]\n",
    "# the predefined keys that should be used to match these columns, in the correct order\n",
    "pre_defined_keys = [\"content\", \"date\", \"attachment\", \"attachement_type\", \"subject\"]\n",
    "# what to call any columns that are not matched to pre-defined keys\n",
    "unmatched_keyword = \"unmatched\"\n",
    "# or get the unmatched keyword from the workflow settings\n",
    "unmatched_keyword = workflow_settings.get(\"csv_col_unmatched_keyword\")\n",
    "\n",
    "input_handler = mailcom.get_input_handler(in_path=input_csv, in_type=\"csv\", \n",
    "                                          col_names=matching_columns, \n",
    "                                          init_data_fields=pre_defined_keys, \n",
    "                                          unmatched_keyword=unmatched_keyword)"
   ]
  },
  {
   "cell_type": "markdown",
   "metadata": {},
   "source": [
    "In the cell above, the `message` column from the `csv` file is mapped to the `content` key in the email dictionary. Any additional columns of the `csv` file are discarded."
   ]
  },
  {
   "cell_type": "code",
   "execution_count": null,
   "metadata": {},
   "outputs": [],
   "source": [
    "pp.pprint(input_handler.email_list[0])"
   ]
  },
  {
   "cell_type": "code",
   "execution_count": null,
   "metadata": {},
   "outputs": [],
   "source": [
    "# path to your csv file - change this to your own file\n",
    "input_csv = \"../../../data/in/sample_data.csv\"\n",
    "# the columns of the csv that should be passed through the processing pipeline/retained in the pipeline\n",
    "matching_columns = [\"message\", \"date\"]\n",
    "# the predefined keys that should be used to match these columns, in the correct order\n",
    "pre_defined_keys = [\"content\", \"date\"]\n",
    "# what to call any columns that are not matched to pre-defined keys\n",
    "unmatched_keyword = \"unmatched\"\n",
    "# or get the unmatched keyword from the workflow settings\n",
    "unmatched_keyword = workflow_settings.get(\"csv_col_unmatched_keyword\")\n",
    "\n",
    "input_handler = mailcom.get_input_handler(in_path=input_csv, in_type=\"csv\", \n",
    "                                          col_names=matching_columns, \n",
    "                                          init_data_fields=pre_defined_keys, \n",
    "                                          unmatched_keyword=unmatched_keyword)"
   ]
  },
  {
   "cell_type": "code",
   "execution_count": null,
   "metadata": {},
   "outputs": [],
   "source": [
    "pp.pprint(input_handler.email_list[0])"
   ]
  },
  {
   "cell_type": "markdown",
   "metadata": {},
   "source": [
    "Here, we have asked the input handler only to match two of the columns, so the other columns are discarded. "
   ]
  },
  {
   "cell_type": "markdown",
   "metadata": {},
   "source": [
    "### Reading `eml`/`html` files from a directory\n",
    "\n",
    "Below, the input files are loaded from the given `input_dir` directory into an input handler. You can provide relative or absolute paths to the directory that contains your `eml` or `html` files. All files of the `eml` or `html` file type in that directory will be considered input files."
   ]
  },
  {
   "cell_type": "code",
   "execution_count": null,
   "metadata": {},
   "outputs": [],
   "source": [
    "# import files from input_dir - change this to your own directory\n",
    "input_dir = \"../../../data/in/\"\n",
    "input_handler = mailcom.get_input_handler(in_path=input_dir, in_type=\"dir\")"
   ]
  },
  {
   "cell_type": "markdown",
   "metadata": {},
   "source": [
    "The data is then loaded into the same dictionary structure as with the csv input file."
   ]
  },
  {
   "cell_type": "code",
   "execution_count": null,
   "metadata": {},
   "outputs": [],
   "source": [
    "pp.pprint(input_handler.email_list[0])"
   ]
  },
  {
   "cell_type": "markdown",
   "metadata": {},
   "source": [
    "## Processing of the data\n",
    "\n",
    "In the cell below, the emails are looped over and the email content is processed. Depending on the settings, each \"content\" goes through the following steps:\n",
    "1. language detection (optional)\n",
    "2. date time detection (optional)\n",
    "3. email addresses pseudonymization (optional)\n",
    "4. name entities pseudonymization\n",
    "5. numbers pseudonymization (optional)\n",
    "\n",
    "For steps 3-5, the email content is divided into sentences, which are then pseudonymized. The modified sentences are recombined into a text and stored in the email dictionary under the key `\"pseudo_content\"`."
   ]
  },
  {
   "cell_type": "code",
   "execution_count": null,
   "metadata": {},
   "outputs": [],
   "source": [
    "# process the input data\n",
    "mailcom.process_data(input_handler.get_email_list(), workflow_settings)"
   ]
  },
  {
   "cell_type": "markdown",
   "metadata": {},
   "source": [
    "In case we pseudonymize all the emails first, the named entities in the input text are highlighted as follows:"
   ]
  },
  {
   "cell_type": "code",
   "execution_count": null,
   "metadata": {},
   "outputs": [],
   "source": [
    "# loop over mails and display the highlights\n",
    "for email in input_handler.get_email_list():\n",
    "    # get NE for each sentence in the email\n",
    "    ne_sent_dict = {}\n",
    "    for sent_idx, ne in zip(email[\"ne_sent\"], email[\"ne_list\"]):\n",
    "        if str(sent_idx) not in ne_sent_dict:\n",
    "            ne_sent_dict[str(sent_idx)] = []\n",
    "        ne_sent_dict[str(sent_idx)].append(ne)\n",
    "\n",
    "    # display original text and highlight found and replaced NEs\n",
    "    html_content = []\n",
    "    for sent_idx, sentence in enumerate(email[\"sentences_after_email\"]):\n",
    "        ne_list = ne_sent_dict.get(str(sent_idx), [])\n",
    "        highlighted_html = highlight_ne_sent(sentence, ne_list)\n",
    "        html_content.append(highlighted_html)\n",
    "    display(HTML(\" \".join(html_content)))"
   ]
  },
  {
   "cell_type": "markdown",
   "metadata": {},
   "source": [
    "After this, the output can be written to a file or processed further. The output is a list of dictionaries, each containing the metadata of the email and the pseudonymized content. In the below cell, the output is saved in a `pandas` dataframe."
   ]
  },
  {
   "cell_type": "code",
   "execution_count": null,
   "metadata": {},
   "outputs": [],
   "source": [
    "# write output to pandas df\n",
    "df = pd.DataFrame(input_handler.get_email_list())\n",
    "df.head(5)"
   ]
  },
  {
   "cell_type": "markdown",
   "metadata": {},
   "source": [
    "The output can be saved as a csv file as well."
   ]
  },
  {
   "cell_type": "code",
   "execution_count": null,
   "metadata": {},
   "outputs": [],
   "source": [
    "# set overwrite to True to overwrite the existing file\n",
    "mailcom.write_output_data(input_handler, \"../../../data/out/out_demo.csv\", overwrite=True)"
   ]
  }
 ],
 "metadata": {
  "kernelspec": {
   "display_name": "mailcom",
   "language": "python",
   "name": "python3"
  },
  "language_info": {
   "codemirror_mode": {
    "name": "ipython",
    "version": 3
   },
   "file_extension": ".py",
   "mimetype": "text/x-python",
   "name": "python",
   "nbconvert_exporter": "python",
   "pygments_lexer": "ipython3",
   "version": "3.11.9"
  }
 },
 "nbformat": 4,
 "nbformat_minor": 2
}
