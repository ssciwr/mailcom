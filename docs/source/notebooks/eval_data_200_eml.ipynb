{
 "cells": [
  {
   "cell_type": "markdown",
   "id": "e6a49ecf",
   "metadata": {},
   "source": [
    "# Notebook for testing Corpus 200 emails\n",
    "*Scientific Software Center, University of Heidelberg, April 2025*\n",
    "\n",
    "The dataset `Corpus 200 emails` contains 200 multilingual emails (Spanish, English, and Portuguese/Galician) formatted in accordance with the RFC2822 specification. Download the dataset [here](https://figshare.com/articles/dataset/Corpus_200_Emails/1326662?file=1936502)\n",
    "\n",
    "This notebook will create an evaluation dataset for `mailcom` using 30 emails from `Corpus 200 emails` (10 emails per language).\n",
    "\n",
    "For each email in the dataset, we record:\n",
    "* email content\n",
    "* email language\n",
    "* detected dates in the email\n",
    "* list of named entities (NE)\n",
    "* pseudo content"
   ]
  },
  {
   "cell_type": "code",
   "execution_count": null,
   "id": "192164dc",
   "metadata": {},
   "outputs": [],
   "source": [
    "# mark email numbers for languages\n",
    "# start with 1\n",
    "gl_emails = [\"01\", \"02\", \"03\", \"04\", 10, 12, 15]\n",
    "gl_files = [str(i) + \".eml\" for i in gl_emails]\n",
    "pt_emails = [30, 36, 66]\n",
    "pt_files = [str(i) + \".eml\" for i in pt_emails]\n",
    "es_emails = [\"05\", \"06\", \"07\", \"09\", 11, 23, 28, 31, 33, 34]\n",
    "es_files = [str(i) + \".eml\" for i in es_emails]\n",
    "en_emails = [13, 14, 19, 20, 22, 24, 32, 35, 37, 38]\n",
    "en_files = [str(i) + \".eml\" for i in en_emails]\n",
    "chosen_files = gl_files + pt_files + es_files + en_files\n",
    "assert len(set(chosen_files)) == 30"
   ]
  },
  {
   "cell_type": "code",
   "execution_count": null,
   "id": "145922f7",
   "metadata": {},
   "outputs": [],
   "source": [
    "source_dir = \"../../../../eval_data_mailcom\"\n",
    "input_dir = \"../../../mailcom/test/data_extended/200_eml\""
   ]
  },
  {
   "cell_type": "code",
   "execution_count": null,
   "id": "6077d516",
   "metadata": {},
   "outputs": [],
   "source": [
    "# copy files from source to input_dir\n",
    "# run when needed\n",
    "from pathlib import Path\n",
    "import shutil\n",
    "source_files = Path(source_dir).glob(\"*.eml\")\n",
    "for source_file in source_files:\n",
    "    if source_file.name in chosen_files:\n",
    "        shutil.copy(source_file, input_dir)\n",
    "        print(f\"Copied {source_file.name} to {input_dir}\")"
   ]
  },
  {
   "cell_type": "markdown",
   "id": "c7591e86",
   "metadata": {},
   "source": [
    "#### Create a draft version of the dataset"
   ]
  },
  {
   "cell_type": "markdown",
   "id": "25d97457",
   "metadata": {},
   "source": [
    "First, we use the language detection, date detection, and pseunonymize from `mailcom` to buil the draft version of the dataset. Each email will be manually checked for validation later."
   ]
  },
  {
   "cell_type": "code",
   "execution_count": null,
   "id": "0f7b8196",
   "metadata": {},
   "outputs": [],
   "source": [
    "import mailcom"
   ]
  },
  {
   "cell_type": "code",
   "execution_count": null,
   "id": "24a78cf6",
   "metadata": {},
   "outputs": [],
   "source": [
    "# activate language detection\n",
    "new_settings = {\"default_lang\": \"\"}\n",
    "workflow_settings = mailcom.get_workflow_settings(new_settings=new_settings, \n",
    "                                                  save_updated_settings=False)"
   ]
  },
  {
   "cell_type": "code",
   "execution_count": null,
   "id": "004fcdb4",
   "metadata": {},
   "outputs": [],
   "source": [
    "# import files from input_dir\n",
    "input_handler = mailcom.get_input_handler(in_path=input_dir, in_type=\"dir\")"
   ]
  },
  {
   "cell_type": "code",
   "execution_count": null,
   "id": "b3c9be35",
   "metadata": {},
   "outputs": [],
   "source": [
    "# process the input data\n",
    "mailcom.process_data(input_handler.get_email_list(), workflow_settings)"
   ]
  },
  {
   "cell_type": "code",
   "execution_count": null,
   "id": "0d796ced",
   "metadata": {},
   "outputs": [],
   "source": [
    "# write output to csv\n",
    "mailcom.write_output_data(input_handler, \"../../../data/eval_data_200_eml.csv\", overwrite=True)"
   ]
  },
  {
   "cell_type": "markdown",
   "id": "40840fad",
   "metadata": {},
   "source": [
    "#### Manually check and modify each email"
   ]
  },
  {
   "cell_type": "code",
   "execution_count": null,
   "id": "2b1cd0ad",
   "metadata": {},
   "outputs": [],
   "source": [
    "import pandas as pd"
   ]
  },
  {
   "cell_type": "code",
   "execution_count": null,
   "id": "644c49b6",
   "metadata": {},
   "outputs": [],
   "source": [
    "def print_email(email: dict):\n",
    "    print(\"file name:\", email[\"file_name\"])\n",
    "    print(\"= Email cleaned content =======\\n\", email[\"cleaned_content\"])\n",
    "    print(\"= Email language =======\\n\", email[\"lang\"])\n",
    "    print(\"= Detected dates =======\\n\", email[\"detected_datetime\"])\n",
    "    print(\"= NE list =======\")\n",
    "    for idx, (sent_idx, ne) in enumerate(zip(eval(email[\"ne_sent\"]), eval(email[\"ne_list\"]))):\n",
    "        print(f\"  {idx}- sentence {sent_idx}, {ne[\"word\"]} - {ne[\"entity_group\"]} - {ne[\"start\"]} - {ne[\"end\"]} - {ne[\"pseudonym\"]}\")\n",
    "    print(\"= Sentences =======\\n\")\n",
    "    for idx, sent in enumerate(eval(email[\"sentences\"])):\n",
    "        print(f\"  {idx}- {sent}\")\n",
    "    print(\"= Pseudo content =======\\n\", email[\"pseudo_content\"])"
   ]
  },
  {
   "cell_type": "code",
   "execution_count": null,
   "id": "5d86fd46",
   "metadata": {},
   "outputs": [],
   "source": [
    "def check_email_lang(file_name, lang) -> bool:\n",
    "    if file_name in gl_files and lang == \"gl\":\n",
    "        return True\n",
    "    elif file_name in pt_files and lang == \"pt\":\n",
    "        return True\n",
    "    elif file_name in es_files and lang == \"es\":\n",
    "        return True\n",
    "    elif file_name in en_files and lang == \"en\":\n",
    "        return True\n",
    "    else:\n",
    "        print(\"Incorrect detected language for file:\", file_name)\n",
    "        return False"
   ]
  },
  {
   "cell_type": "code",
   "execution_count": null,
   "id": "aad80073",
   "metadata": {},
   "outputs": [],
   "source": [
    "# read output from last updated csv\n",
    "old_email_idx = 0\n",
    "df = pd.read_csv(f\"../../../data/eval_data_200_eml_idx{old_email_idx}.csv\")"
   ]
  },
  {
   "cell_type": "code",
   "execution_count": null,
   "id": "e7fe2dd6",
   "metadata": {},
   "outputs": [],
   "source": [
    "# manually check each email\n",
    "email_idx = 0\n",
    "email = df.iloc[email_idx]\n",
    "print_email(email)\n",
    "if check_email_lang(email[\"file_name\"], email[\"lang\"]):\n",
    "    print(\"Correct detected language for file:\", email[\"file_name\"])"
   ]
  },
  {
   "cell_type": "code",
   "execution_count": null,
   "id": "5399b8b2",
   "metadata": {},
   "outputs": [],
   "source": [
    "# mark incorrect indices of NE\n",
    "incorrect_ne_indices = [1, 2, 3, 4, 5, 6, 7, 8]"
   ]
  },
  {
   "cell_type": "code",
   "execution_count": null,
   "id": "13b32348",
   "metadata": {},
   "outputs": [],
   "source": [
    "def remove_incorrect_ne_indices(email, incorrect_ne_indices):\n",
    "    ne_list = eval(email[\"ne_list\"])\n",
    "    ne_sent = eval(email[\"ne_sent\"])\n",
    "    # remove from the end to avoid shifting indices\n",
    "    for idx in sorted(incorrect_ne_indices, reverse=True):\n",
    "        del ne_list[idx]\n",
    "        del ne_sent[idx]\n",
    "    return ne_list, ne_sent"
   ]
  },
  {
   "cell_type": "code",
   "execution_count": null,
   "id": "e11584f0",
   "metadata": {},
   "outputs": [],
   "source": [
    "# remove incorrect indices from ne_list and ne_sent of email\n",
    "email_ne_list, email_ne_sent = remove_incorrect_ne_indices(email, incorrect_ne_indices)"
   ]
  },
  {
   "cell_type": "code",
   "execution_count": null,
   "id": "6d2c6a09",
   "metadata": {},
   "outputs": [],
   "source": [
    "# update email in df\n",
    "df.at[email_idx, \"ne_list\"] = email_ne_list\n",
    "df.at[email_idx, \"ne_sent\"] = email_ne_sent"
   ]
  },
  {
   "cell_type": "code",
   "execution_count": null,
   "id": "8bb4f7ea",
   "metadata": {},
   "outputs": [],
   "source": [
    "df.iloc[email_idx]"
   ]
  },
  {
   "cell_type": "code",
   "execution_count": null,
   "id": "98ea500d",
   "metadata": {},
   "outputs": [],
   "source": [
    "# save updated df to csv\n",
    "df.to_csv(f\"../../../data/eval_data_200_eml_idx{email_idx}.csv\", index=False)"
   ]
  }
 ],
 "metadata": {
  "kernelspec": {
   "display_name": "mailcom",
   "language": "python",
   "name": "python3"
  },
  "language_info": {
   "codemirror_mode": {
    "name": "ipython",
    "version": 3
   },
   "file_extension": ".py",
   "mimetype": "text/x-python",
   "name": "python",
   "nbconvert_exporter": "python",
   "pygments_lexer": "ipython3",
   "version": "3.12.9"
  }
 },
 "nbformat": 4,
 "nbformat_minor": 5
}
