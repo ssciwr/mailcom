{
 "cells": [
  {
   "cell_type": "markdown",
   "id": "e6a49ecf",
   "metadata": {},
   "source": [
    "# Notebook for testing Corpus 200 emails\n",
    "*Scientific Software Center, University of Heidelberg, April 2025*\n",
    "\n",
    "The dataset `Corpus 200 emails` contains 200 multilingual emails (Spanish, English, and Portuguese/Galician) formatted in accordance with the RFC2822 specification. Download the dataset [here](https://figshare.com/articles/dataset/Corpus_200_Emails/1326662?file=1936502)\n",
    "\n",
    "This notebook will create an evaluation dataset for `mailcom` using 30 emails from `Corpus 200 emails` (10 emails per language).\n",
    "\n",
    "For each email in the dataset, we record:\n",
    "* email content\n",
    "* email language\n",
    "* detected dates in the email\n",
    "* list of named entities (NE)\n",
    "* pseudo content"
   ]
  },
  {
   "cell_type": "code",
   "execution_count": null,
   "id": "192164dc",
   "metadata": {},
   "outputs": [],
   "source": [
    "# mark email numbers for languages\n",
    "# start with 1\n",
    "gl_emails = [\"01\", \"02\", \"03\", \"04\", 10, 12, 15]\n",
    "gl_files = [str(i) + \".eml\" for i in gl_emails]\n",
    "pt_emails = [30, 36, 66]\n",
    "pt_files = [str(i) + \".eml\" for i in pt_emails]\n",
    "es_emails = [\"05\", \"06\", \"07\", \"09\", 11, 23, 28, 31, 33, 34]\n",
    "es_files = [str(i) + \".eml\" for i in es_emails]\n",
    "en_emails = [13, 14, 19, 20, 22, 24, 32, 35, 37, 38]\n",
    "en_files = [str(i) + \".eml\" for i in en_emails]\n",
    "chosen_files = gl_files + pt_files + es_files + en_files\n",
    "assert len(set(chosen_files)) == 30"
   ]
  },
  {
   "cell_type": "code",
   "execution_count": null,
   "id": "145922f7",
   "metadata": {},
   "outputs": [],
   "source": [
    "source_dir = \"../../../../eval_data_mailcom\"\n",
    "input_dir = \"../../../mailcom/test/data_extended/200_eml\""
   ]
  },
  {
   "cell_type": "markdown",
   "id": "549f4320",
   "metadata": {},
   "source": [
    "#### Copy files"
   ]
  },
  {
   "cell_type": "code",
   "execution_count": null,
   "id": "6077d516",
   "metadata": {},
   "outputs": [],
   "source": [
    "# run when needed!\n",
    "# copy files from source to input_dir\n",
    "from pathlib import Path\n",
    "import shutil\n",
    "source_files = Path(source_dir).glob(\"*.eml\")\n",
    "for source_file in source_files:\n",
    "    if source_file.name in chosen_files:\n",
    "        shutil.copy(source_file, input_dir)\n",
    "        print(f\"Copied {source_file.name} to {input_dir}\")"
   ]
  },
  {
   "cell_type": "markdown",
   "id": "c7591e86",
   "metadata": {},
   "source": [
    "#### Create a draft version of the dataset"
   ]
  },
  {
   "cell_type": "markdown",
   "id": "25d97457",
   "metadata": {},
   "source": [
    "First, we use the language detection, date detection, and pseunonymize from `mailcom` to buil the draft version of the dataset. Each email will be manually checked for validation later."
   ]
  },
  {
   "cell_type": "code",
   "execution_count": null,
   "id": "0f7b8196",
   "metadata": {},
   "outputs": [],
   "source": [
    "import mailcom"
   ]
  },
  {
   "cell_type": "code",
   "execution_count": null,
   "id": "24a78cf6",
   "metadata": {},
   "outputs": [],
   "source": [
    "# activate language detection\n",
    "new_settings = {\"default_lang\": \"\"}\n",
    "workflow_settings = mailcom.get_workflow_settings(new_settings=new_settings, \n",
    "                                                  save_updated_settings=False)"
   ]
  },
  {
   "cell_type": "code",
   "execution_count": null,
   "id": "004fcdb4",
   "metadata": {},
   "outputs": [],
   "source": [
    "# import files from input_dir\n",
    "input_handler = mailcom.get_input_handler(in_path=input_dir, in_type=\"dir\")"
   ]
  },
  {
   "cell_type": "code",
   "execution_count": null,
   "id": "b3c9be35",
   "metadata": {},
   "outputs": [],
   "source": [
    "# process the input data\n",
    "mailcom.process_data(input_handler.get_email_list(), workflow_settings)"
   ]
  },
  {
   "cell_type": "code",
   "execution_count": null,
   "id": "0d796ced",
   "metadata": {},
   "outputs": [],
   "source": [
    "# write output to csv\n",
    "mailcom.write_output_data(input_handler, \"../../../data/eval_data_200_eml.csv\", overwrite=True)"
   ]
  },
  {
   "cell_type": "markdown",
   "id": "40840fad",
   "metadata": {},
   "source": [
    "#### Manually check and modify each email"
   ]
  },
  {
   "cell_type": "code",
   "execution_count": null,
   "id": "2b1cd0ad",
   "metadata": {},
   "outputs": [],
   "source": [
    "import pandas as pd"
   ]
  },
  {
   "cell_type": "code",
   "execution_count": null,
   "id": "644c49b6",
   "metadata": {},
   "outputs": [],
   "source": [
    "def print_email(email: dict):\n",
    "    print(\"file name:\", email[\"file_name\"])\n",
    "    print(\"= Email cleaned content =======\\n\", email[\"cleaned_content\"])\n",
    "    print(\"= Email language =======\\n\", email[\"lang\"])\n",
    "    print(\"= Detected dates =======\\n\", email[\"detected_datetime\"])\n",
    "    print(\"= NE list =======\")\n",
    "    for idx, (sent_idx, ne) in enumerate(zip(eval(email[\"ne_sent\"]), eval(email[\"ne_list\"]))):\n",
    "        print(f\"  {idx}- sentence {sent_idx}, {ne[\"word\"]} - {ne[\"entity_group\"]} - {ne[\"start\"]} - {ne[\"end\"]} - {ne[\"pseudonym\"]}\")\n",
    "    print(\"= Sentences =======\\n\")\n",
    "    for i, sent in enumerate(eval(email[\"sentences\"])):\n",
    "        print(f\"  {i}- {sent}\")\n",
    "    print(\"= Pseudo content =======\\n\", email[\"pseudo_content\"])"
   ]
  },
  {
   "cell_type": "code",
   "execution_count": null,
   "id": "5d86fd46",
   "metadata": {},
   "outputs": [],
   "source": [
    "def check_email_lang(file_name, lang) -> bool:\n",
    "    if file_name in gl_files and lang == \"gl\":\n",
    "        return True\n",
    "    elif file_name in pt_files and lang == \"pt\":\n",
    "        return True\n",
    "    elif file_name in es_files and lang == \"es\":\n",
    "        return True\n",
    "    elif file_name in en_files and lang == \"en\":\n",
    "        return True\n",
    "    else:\n",
    "        print(\"Incorrect detected language for file:\", file_name)\n",
    "        return False"
   ]
  },
  {
   "cell_type": "code",
   "execution_count": null,
   "id": "933d453c",
   "metadata": {},
   "outputs": [],
   "source": [
    "# mark email indices that are already checked\n",
    "checked_rows = [0, 1, 2, 3, 4, 5, 6, 7, 8, 9, 10]\n",
    "old_row_idx = None if not checked_rows else checked_rows[-1]"
   ]
  },
  {
   "cell_type": "code",
   "execution_count": null,
   "id": "aad80073",
   "metadata": {},
   "outputs": [],
   "source": [
    "# read output from last updated csv\n",
    "if old_row_idx is None:\n",
    "    # read the original csv\n",
    "    df = pd.read_csv(\"../../../data/eval_data_200_eml.csv\")\n",
    "else:\n",
    "    # read the updated csv\n",
    "    tmp_row_idx = old_row_idx\n",
    "    while tmp_row_idx >= 0:\n",
    "        try:\n",
    "            df = pd.read_csv(f\"../../../data/eval_data_200_eml_idx{tmp_row_idx}.csv\")\n",
    "            print(\"Read file:\", f\"../../../data/eval_data_200_eml_idx{tmp_row_idx}.csv\")\n",
    "            break\n",
    "        except FileNotFoundError:\n",
    "            tmp_row_idx -= 1"
   ]
  },
  {
   "cell_type": "code",
   "execution_count": null,
   "id": "e7fe2dd6",
   "metadata": {},
   "outputs": [],
   "source": [
    "# manually check each email\n",
    "row_idx = old_row_idx + 1 if old_row_idx is not None else 0\n",
    "email = df.iloc[row_idx]\n",
    "if check_email_lang(email[\"file_name\"], email[\"lang\"]):\n",
    "    print(\"Correct detected language for file:\", email[\"file_name\"])\n",
    "else:\n",
    "    print(\"Incorrect detected language for file:\", email[\"file_name\"])\n",
    "print_email(email)"
   ]
  },
  {
   "cell_type": "code",
   "execution_count": null,
   "id": "5399b8b2",
   "metadata": {},
   "outputs": [],
   "source": [
    "# mark incorrect indices of NE -- compared to the original\n",
    "incorrect_ne_indices = {}\n",
    "incorrect_ne_indices[\"0\"] = {\"u\": [2]}\n",
    "incorrect_ne_indices[\"1\"] = {\"u\": [4, 8],\n",
    "                             \"r\": [7],\n",
    "                             \"a\": [2]} # the \"r\" and \"a\" cases are updated manually\n",
    "incorrect_ne_indices[\"2\"] = {\"u\": [2]}\n",
    "incorrect_ne_indices[\"4\"] = {\"u\": [6, 8, 9],\n",
    "                             \"r\": [10],\n",
    "                             \"a\": [4, 5, 6]}\n",
    "incorrect_ne_indices[\"5\"] = {\"u\": [9],\n",
    "                             \"r\": [],\n",
    "                             \"a\": []}\n",
    "incorrect_ne_indices[\"6\"] = {\"u\": [6],\n",
    "                             \"r\": [5],\n",
    "                             \"a\": []}\n",
    "incorrect_ne_indices[\"7\"] = {\"u\": [],\n",
    "                             \"r\": [10, 11],\n",
    "                             \"a\": [22]}\n",
    "incorrect_ne_indices[\"8\"] = {\"u\": [1, 4, 5, 6 ,7, 9, 10, 15, 20, 22, 27],\n",
    "                             \"r\": [23, 31],\n",
    "                             \"a\": [8],\n",
    "                             \"r-c\": [2, 3]}\n",
    "incorrect_ne_indices[\"9\"] = {\"u\": [17],\n",
    "                             \"r\": [],\n",
    "                             \"a\": [],\n",
    "                             \"r-c\": []}\n",
    "incorrect_ne_indices[\"10\"] = {\"u\": [1, 19],\n",
    "                             \"r\": [23],\n",
    "                             \"a\": [],\n",
    "                             \"r-c\": [13, 20]}"
   ]
  },
  {
   "cell_type": "code",
   "execution_count": null,
   "id": "c3a1f0fc",
   "metadata": {},
   "outputs": [],
   "source": [
    "# update incorrect ne manually, if any\n",
    "ne_list = eval(email[\"ne_list\"])\n",
    "ne_sent = eval(email[\"ne_sent\"])\n",
    "\n",
    "def find_left_offset(old_word, new_word):\n",
    "    old_longer = len(old_word) > len(new_word)\n",
    "    # find old word in the new word\n",
    "    if old_longer:\n",
    "        start_offset = old_word.find(new_word)\n",
    "    else:\n",
    "        start_offset = new_word.find(old_word)\n",
    "\n",
    "    left_offset = start_offset if old_longer else - start_offset\n",
    "    return left_offset"
   ]
  },
  {
   "cell_type": "code",
   "execution_count": null,
   "id": "e72aa826",
   "metadata": {},
   "outputs": [],
   "source": [
    "# skip below lines in this cell if no update is needed\n",
    "# update for every email\n",
    "item_idx = 1\n",
    "old_word = ne_list[item_idx][\"word\"]\n",
    "ne_list[item_idx][\"word\"] = \"Expert Systems With Applications\"\n",
    "l_offset = find_left_offset(old_word, ne_list[item_idx][\"word\"])\n",
    "ne_list[item_idx][\"start\"] += l_offset\n",
    "ne_list[item_idx][\"end\"] = ne_list[item_idx][\"start\"] + len(ne_list[item_idx][\"word\"])\n",
    "\n",
    "item_idx = 19\n",
    "old_word = ne_list[item_idx][\"word\"]\n",
    "ne_list[item_idx][\"word\"] = \"OX5 1GB\"\n",
    "l_offset = find_left_offset(old_word, ne_list[item_idx][\"word\"])\n",
    "ne_list[item_idx][\"start\"] += l_offset\n",
    "ne_list[item_idx][\"end\"] = ne_list[item_idx][\"start\"] + len(ne_list[item_idx][\"word\"])"
   ]
  },
  {
   "cell_type": "code",
   "execution_count": null,
   "id": "13b32348",
   "metadata": {},
   "outputs": [],
   "source": [
    "def remove_incorrect_ne_indices(ne_list, ne_sent, incorrect_ne_indices):\n",
    "    new_ne_list = []\n",
    "    new_ne_sent = []\n",
    "    for idx, ne in enumerate(ne_list):\n",
    "        if idx in incorrect_ne_indices:\n",
    "            # remove the ne from the list\n",
    "            continue\n",
    "        else:\n",
    "            new_ne_list.append(ne)\n",
    "            new_ne_sent.append(ne_sent[idx])\n",
    "    return new_ne_list, new_ne_sent"
   ]
  },
  {
   "cell_type": "code",
   "execution_count": null,
   "id": "e11584f0",
   "metadata": {},
   "outputs": [],
   "source": [
    "# remove incorrect indices from ne_list and ne_sent of email\n",
    "ne_list, ne_sent = remove_incorrect_ne_indices(ne_list, ne_sent, incorrect_ne_indices[str(row_idx)][\"r\"])"
   ]
  },
  {
   "cell_type": "code",
   "execution_count": null,
   "id": "419efab4",
   "metadata": {},
   "outputs": [],
   "source": [
    "# add new ne, if any\n",
    "# update for every email\n",
    "# n_word = \"elsevier\"\n",
    "# n_pseudonym = \"[organization]\"\n",
    "# n_entity_group = \"ORG\"\n",
    "# sent_idx = 10\n",
    "# insert_idx = 22\n",
    "# new_ne = {\"entity_group\": n_entity_group, \"word\": n_word, \"pseudonym\": n_pseudonym}\n",
    "# new_ne[\"start\"] = eval(email[\"sentences\"])[sent_idx].find(new_ne[\"word\"])\n",
    "# new_ne[\"end\"] = new_ne[\"start\"] + len(new_ne[\"word\"])\n",
    "# ne_list.insert(insert_idx, new_ne)\n",
    "# ne_sent.insert(insert_idx, sent_idx)"
   ]
  },
  {
   "cell_type": "code",
   "execution_count": null,
   "id": "4029b79f",
   "metadata": {},
   "outputs": [],
   "source": [
    "# remove incorrect indices from ne_list and ne_sent of email\n",
    "ne_list, ne_sent = remove_incorrect_ne_indices(ne_list, ne_sent, incorrect_ne_indices[str(row_idx)][\"r-c\"])"
   ]
  },
  {
   "cell_type": "code",
   "execution_count": null,
   "id": "6d2c6a09",
   "metadata": {},
   "outputs": [],
   "source": [
    "# update email in df\n",
    "df.at[row_idx, \"ne_list\"] = ne_list\n",
    "df.at[row_idx, \"ne_sent\"] = ne_sent"
   ]
  },
  {
   "cell_type": "code",
   "execution_count": null,
   "id": "7c1616d6",
   "metadata": {},
   "outputs": [],
   "source": [
    "# generate new pseudo content\n",
    "import mailcom\n",
    "from mailcom.parse import Pseudonymize\n",
    "\n",
    "# get workflow settings\n",
    "new_settings = {\"default_lang\": \"\"}\n",
    "workflow_settings = mailcom.get_workflow_settings(new_settings=new_settings, \n",
    "                                                  save_updated_settings=False)\n",
    "pseudonymizer = Pseudonymize(workflow_settings.get(\"pseudo_first_names\", {}))\n",
    "\n",
    "# get updated values\n",
    "email = df.iloc[row_idx]\n",
    "\n",
    "# get NE for each sentence in the email\n",
    "ne_sent_dict = {}\n",
    "for sent_idx, ne in zip(email[\"ne_sent\"], email[\"ne_list\"]):\n",
    "    if str(sent_idx) not in ne_sent_dict:\n",
    "        ne_sent_dict[str(sent_idx)] = []\n",
    "    ne_sent_dict[str(sent_idx)].append(ne)\n",
    "\n",
    "updated_pseudo_content = pseudonymizer.pseudonymize_with_updated_ne(eval(email[\"sentences\"]),\n",
    "                                                                    ne_sent_dict,\n",
    "                                                                    email[\"lang\"],\n",
    "                                                                    eval(email[\"detected_datetime\"]),\n",
    "                                                                    workflow_settings.get(\"pseudo_emailaddresses\", True),\n",
    "                                                                    workflow_settings.get(\"pseudo_ne\", True),\n",
    "                                                                    workflow_settings.get(\"pseudo_numbers\", True))"
   ]
  },
  {
   "cell_type": "code",
   "execution_count": null,
   "id": "ffba9944",
   "metadata": {},
   "outputs": [],
   "source": [
    "updated_pseudo_content"
   ]
  },
  {
   "cell_type": "code",
   "execution_count": null,
   "id": "9ee27cc0",
   "metadata": {},
   "outputs": [],
   "source": [
    "# update pseudo content in df\n",
    "df.at[row_idx, \"pseudo_content\"] = updated_pseudo_content"
   ]
  },
  {
   "cell_type": "code",
   "execution_count": null,
   "id": "432b6619",
   "metadata": {},
   "outputs": [],
   "source": [
    "# other updates, if any\n",
    "# df.at[row_idx, \"detected_datetime\"] = [\"\"]"
   ]
  },
  {
   "cell_type": "code",
   "execution_count": null,
   "id": "8bb4f7ea",
   "metadata": {},
   "outputs": [],
   "source": [
    "# double check\n",
    "df.iloc[row_idx]"
   ]
  },
  {
   "cell_type": "code",
   "execution_count": null,
   "id": "98ea500d",
   "metadata": {},
   "outputs": [],
   "source": [
    "# save updated df to csv\n",
    "df.to_csv(f\"../../../data/eval_data_200_eml_idx{row_idx}.csv\", index=False)"
   ]
  }
 ],
 "metadata": {
  "kernelspec": {
   "display_name": "mailcom",
   "language": "python",
   "name": "python3"
  },
  "language_info": {
   "codemirror_mode": {
    "name": "ipython",
    "version": 3
   },
   "file_extension": ".py",
   "mimetype": "text/x-python",
   "name": "python",
   "nbconvert_exporter": "python",
   "pygments_lexer": "ipython3",
   "version": "3.12.9"
  }
 },
 "nbformat": 4,
 "nbformat_minor": 5
}
