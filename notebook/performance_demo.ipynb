{
 "cells": [
  {
   "cell_type": "code",
   "execution_count": 30,
   "metadata": {},
   "outputs": [],
   "source": [
    "import mailcom.inout\n",
    "import mailcom.parse\n",
    "import pandas as pd\n",
    "import time\n",
    "import datetime\n",
    "import matplotlib.pyplot as plt\n",
    "import mailcom.utils"
   ]
  },
  {
   "cell_type": "code",
   "execution_count": 31,
   "metadata": {},
   "outputs": [],
   "source": [
    "# create t0 timestamp\n",
    "t0 = time.time()"
   ]
  },
  {
   "cell_type": "code",
   "execution_count": 32,
   "metadata": {},
   "outputs": [
    {
     "name": "stdout",
     "output_type": "stream",
     "text": [
      "     Unnamed: 0                                            message\n",
      "0           242  Von meinem iPhone gesendet Anfang der weiterge...\n",
      "1           243  Von meinem iPhone gesendet Anfang der weiterge...\n",
      "2           244  Von meinem iPhone gesendet Anfang der weiterge...\n",
      "3           245  Von meinem iPhone gesendet Anfang der weiterge...\n",
      "4           246  Von meinem iPhone gesendet Anfang der weiterge...\n",
      "..          ...                                                ...\n",
      "98         1313  \\nVon: Mélissa des Presses de l'Université Lav...\n",
      "99         1314  Von: Librairie Classiques Garnier &amp;lt;libr...\n",
      "100        1315  La langue s'enrichit #36 - FranceTerme\\nProf. ...\n",
      "101        1316  Activités de juin - Presses de l'Université La...\n",
      "102        1317  Nouveautés de juin\\nProf. Dr. Sybille Große I ...\n",
      "\n",
      "[103 rows x 2 columns]\n"
     ]
    },
    {
     "name": "stderr",
     "output_type": "stream",
     "text": [
      "Some weights of the model checkpoint at xlm-roberta-large-finetuned-conll03-english were not used when initializing XLMRobertaForTokenClassification: ['roberta.pooler.dense.bias', 'roberta.pooler.dense.weight']\n",
      "- This IS expected if you are initializing XLMRobertaForTokenClassification from the checkpoint of a model trained on another task or with another architecture (e.g. initializing a BertForSequenceClassification model from a BertForPreTraining model).\n",
      "- This IS NOT expected if you are initializing XLMRobertaForTokenClassification from the checkpoint of a model that you expect to be exactly identical (initializing a BertForSequenceClassification model from a BertForSequenceClassification model).\n",
      "Device set to use cuda:0\n",
      "Device set to use cuda:0\n"
     ]
    }
   ],
   "source": [
    "out_file = \"../data/out/lang_detection_from_csv.csv\"\n",
    "# import files from csv file\n",
    "email_list = pd.read_csv(\"../mailcom/test/data_extended/mails_lb_sg.csv\")\n",
    "print(email_list)\n",
    "\n",
    "t_csv_read = time.time()\n",
    "\n",
    "# create pseudonymization object\n",
    "ps = mailcom.parse.Pseudonymize()\n",
    "ps.init_spacy(\"fr\")\n",
    "ps.init_transformers()\n",
    "ld = mailcom.utils.LangDetector()\n",
    "ld.init_transformers()\n",
    "# time stamp after model loading\n",
    "t_model_loaded = time.time()"
   ]
  },
  {
   "cell_type": "code",
   "execution_count": 37,
   "metadata": {},
   "outputs": [],
   "source": [
    "# loop over mails and detect their languages\n",
    "lang_out_list = []\n",
    "lang_ts_list = []\n",
    "for idx, row in email_list.iterrows():\n",
    "    ts_email_start = time.time()\n",
    "    text = row[\"message\"]\n",
    "    email_dict = {\"content\": text}\n",
    "    if not text:\n",
    "        continue\n",
    "    # Test functionality of LangDetector class\n",
    "    ts_email_ppr_done = time.time()\n",
    "    for lang_lib in [\"langid\", \"langdetect\", \"trans\"]:\n",
    "        det_lang = ld.get_detections(text, lang_lib)\n",
    "        email_dict[lang_lib] = \"{}-{}\".format(det_lang[0][0], det_lang[0][1])\n",
    "\n",
    "    lang_out_list.append(email_dict)\n",
    "\n",
    "    # timestamp after this email\n",
    "    ts_email_end = time.time()\n",
    "    lang_ts_list.append([ts_email_start, ts_email_ppr_done, ts_email_end])"
   ]
  },
  {
   "cell_type": "code",
   "execution_count": 38,
   "metadata": {},
   "outputs": [
    {
     "name": "stdout",
     "output_type": "stream",
     "text": [
      "                                               content  langid  \\\n",
      "0    Von meinem iPhone gesendet Anfang der weiterge...  fr-1.0   \n",
      "1    Von meinem iPhone gesendet Anfang der weiterge...  fr-1.0   \n",
      "2    Von meinem iPhone gesendet Anfang der weiterge...  fr-1.0   \n",
      "3    Von meinem iPhone gesendet Anfang der weiterge...  fr-1.0   \n",
      "4    Von meinem iPhone gesendet Anfang der weiterge...  fr-1.0   \n",
      "..                                                 ...     ...   \n",
      "98   \\nVon: Mélissa des Presses de l'Université Lav...  fr-1.0   \n",
      "99   Von: Librairie Classiques Garnier &amp;lt;libr...  fr-1.0   \n",
      "100  La langue s'enrichit #36 - FranceTerme\\nProf. ...  fr-1.0   \n",
      "101  Activités de juin - Presses de l'Université La...  fr-1.0   \n",
      "102  Nouveautés de juin\\nProf. Dr. Sybille Große I ...  fr-1.0   \n",
      "\n",
      "                langdetect                  trans  \n",
      "0     fr-0.999997643017964  fr-0.9911757707595825  \n",
      "1    fr-0.9999985698658455  fr-0.9899152517318726  \n",
      "2     fr-0.999996534677391  fr-0.9927849769592285  \n",
      "3    fr-0.9999966462358008  fr-0.9916396737098694  \n",
      "4    fr-0.7142828117950524  fr-0.9849207997322083  \n",
      "..                     ...                    ...  \n",
      "98   fr-0.9999957490263667  fr-0.9911774396896362  \n",
      "99   fr-0.9999943212158026   fr-0.990962564945221  \n",
      "100  fr-0.9999963877653447  fr-0.9920682907104492  \n",
      "101  fr-0.9999945178087889  fr-0.9914606809616089  \n",
      "102  fr-0.9999946157595117  fr-0.9915869235992432  \n",
      "\n",
      "[103 rows x 4 columns]\n"
     ]
    }
   ],
   "source": [
    "# write output to pandas df\n",
    "df = pd.DataFrame(lang_out_list)\n",
    "print(df)"
   ]
  },
  {
   "cell_type": "code",
   "execution_count": 39,
   "metadata": {},
   "outputs": [],
   "source": [
    "# store the results in a csv file\n",
    "df.to_csv(out_file, index=False)"
   ]
  },
  {
   "cell_type": "code",
   "execution_count": 41,
   "metadata": {},
   "outputs": [
    {
     "name": "stdout",
     "output_type": "stream",
     "text": [
      "fr-0.9913384914398193\n",
      "fr-0.9913080334663391\n",
      "fr-0.9910556077957153\n",
      "fr-0.9912301301956177\n",
      "fr-0.9908391833305359\n",
      "fr-0.9915818572044373\n",
      "fr-0.9918330907821655\n",
      "fr-0.9908162355422974\n",
      "fr-0.9911774396896362\n",
      "fr-0.990962564945221\n",
      "fr-0.9920682907104492\n",
      "fr-0.9914606809616089\n",
      "fr-0.9915869235992432\n"
     ]
    }
   ],
   "source": [
    "for item in df[\"trans\"][90:104]:\n",
    "    print(item)"
   ]
  },
  {
   "cell_type": "code",
   "execution_count": 5,
   "metadata": {},
   "outputs": [
    {
     "name": "stderr",
     "output_type": "stream",
     "text": [
      "You seem to be using the pipelines sequentially on GPU. In order to maximize efficiency please use a dataset\n"
     ]
    }
   ],
   "source": [
    "# loop over mails and pseudonymize them\n",
    "out_list = []\n",
    "ts_list = []\n",
    "for idx, row in email_list.iterrows():\n",
    "    ts_email_start = time.time()\n",
    "    text = row[\"message\"]\n",
    "    email_dict = {\"content\": text}\n",
    "    if not text:\n",
    "        continue\n",
    "    # Test functionality of Pseudonymize class\n",
    "    # Pseudonymization is usually done using ps.pseudonymize\n",
    "    # For performance analysis the process is split into its subprocesses here\n",
    "    ps.reset()\n",
    "    sentences = ps.get_sentences(text)\n",
    "    ts_email_ppr_done = time.time()\n",
    "    pseudonymized_sentences = []\n",
    "    for sent in sentences:\n",
    "        sent = ps.pseudonymize_email_addresses(sent)\n",
    "        ner = ps.get_ner(sent)\n",
    "        ps_sent = \" \".join(ps.pseudonymize_ne(ner, sent)) if ner else sent\n",
    "        ps_sent = ps.pseudonymize_numbers(ps_sent)\n",
    "        pseudonymized_sentences.append(ps_sent)\n",
    "    output_text = ps.concatenate(pseudonymized_sentences)\n",
    "\n",
    "    # add output to dict\n",
    "    email_dict[\"pseudo_content\"] = output_text\n",
    "    out_list.append(email_dict)\n",
    "\n",
    "    # timestamp after this email\n",
    "    ts_email_end = time.time()\n",
    "    ts_list.append([ts_email_start, ts_email_ppr_done, ts_email_end])"
   ]
  },
  {
   "cell_type": "code",
   "execution_count": 11,
   "metadata": {},
   "outputs": [
    {
     "name": "stdout",
     "output_type": "stream",
     "text": [
      "                                               content  \\\n",
      "0    Von meinem iPhone gesendet Anfang der weiterge...   \n",
      "1    Von meinem iPhone gesendet Anfang der weiterge...   \n",
      "2    Von meinem iPhone gesendet Anfang der weiterge...   \n",
      "3    Von meinem iPhone gesendet Anfang der weiterge...   \n",
      "4    Von meinem iPhone gesendet Anfang der weiterge...   \n",
      "..                                                 ...   \n",
      "98   \\nVon: Mélissa des Presses de l'Université Lav...   \n",
      "99   Von: Librairie Classiques Garnier &amp;lt;libr...   \n",
      "100  La langue s'enrichit #36 - FranceTerme\\nProf. ...   \n",
      "101  Activités de juin - Presses de l'Université La...   \n",
      "102  Nouveautés de juin\\nProf. Dr. Sybille Große I ...   \n",
      "\n",
      "                                              det_lang  \n",
      "0    [(fr, 0.9911757707595825), (ru, 0.000684742582...  \n",
      "1    [(fr, 0.9899152517318726), (ru, 0.000784482806...  \n",
      "2    [(fr, 0.9927849769592285), (tr, 0.000568731455...  \n",
      "3    [(fr, 0.9916396737098694), (ru, 0.000675349729...  \n",
      "4    [(fr, 0.9849207997322083), (en, 0.001657419255...  \n",
      "..                                                 ...  \n",
      "98   [(fr, 0.9911774396896362), (ru, 0.000708585081...  \n",
      "99   [(fr, 0.990962564945221), (ru, 0.0007254832307...  \n",
      "100  [(fr, 0.9920682907104492), (ru, 0.000636541168...  \n",
      "101  [(fr, 0.9914606809616089), (ru, 0.000670765293...  \n",
      "102  [(fr, 0.9915869235992432), (ru, 0.000665231840...  \n",
      "\n",
      "[103 rows x 2 columns]\n"
     ]
    }
   ],
   "source": [
    "# write output to pandas df\n",
    "df = pd.DataFrame(out_list)\n",
    "print(df)"
   ]
  },
  {
   "cell_type": "code",
   "execution_count": 12,
   "metadata": {},
   "outputs": [
    {
     "name": "stdout",
     "output_type": "stream",
     "text": [
      "Total time: 00:10\n"
     ]
    },
    {
     "data": {
      "image/png": "[encoded data removed]",
      "text/plain": [
       "<Figure size 800x320 with 2 Axes>"
      ]
     },
     "metadata": {},
     "output_type": "display_data"
    }
   ],
   "source": [
    "# display timestamps\n",
    "\n",
    "# bar plot for each individual email\n",
    "# processing times\n",
    "idx_list = [row[0] for row in email_list.iterrows()]\n",
    "email_duration_list = [ts[2] - ts[1] for ts in ts_list]\n",
    "email_ppr_list = [ts[1] - ts[0] for ts in ts_list]\n",
    "email_total_list = [ts[2] - ts[0] for ts in ts_list]\n",
    "email_bar_height = {\n",
    "    \"Pre-Processing\": email_ppr_list,\n",
    "    \"Pseudonymization\": email_duration_list\n",
    "}\n",
    "bt = [0 for idx in idx_list]\n",
    "\n",
    "plt.figure(figsize=(10,4), dpi=80)\n",
    "\n",
    "# plot 1\n",
    "plt.subplot(1, 2, 1)\n",
    "for key, height in email_bar_height.items():\n",
    "    plt.bar(idx_list, height, 0.5, label=key, bottom=bt)\n",
    "    bt = [bi + hi for (bi,hi) in zip(bt, height)]\n",
    "#plt.yscale(\"log\")\n",
    "plt.xlabel(\"Email\")\n",
    "plt.ylabel(\"t [s]\")\n",
    "plt.title(\"Computation times for emails, model loading and file reading\")\n",
    "plt.legend()\n",
    "\n",
    "# plot for model loading and file reading, as well as average email time\n",
    "# processing times\n",
    "bar_x = [\"CSV Reading\", \"Model Loading\", \"Average Email Time\"]\n",
    "average_email_time = sum(email_total_list) / len(email_total_list)\n",
    "bar_y = [t_csv_read - t0, t_model_loaded - t0, average_email_time]\n",
    "plt.ylabel(\"t [s]\")\n",
    "\n",
    "# plot 2\n",
    "plt.subplot(1, 2, 2)\n",
    "plt.bar(bar_x, bar_y, 0.5)\n",
    "\n",
    "# Total time\n",
    "print(\"Total time:\", (datetime.datetime.fromtimestamp(ts_list[len(ts_list)-1][2] - t_model_loaded).strftime('%M:%S')))"
   ]
  },
  {
   "cell_type": "code",
   "execution_count": null,
   "metadata": {},
   "outputs": [],
   "source": []
  }
 ],
 "metadata": {
  "kernelspec": {
   "display_name": "mailcom",
   "language": "python",
   "name": "python3"
  },
  "language_info": {
   "codemirror_mode": {
    "name": "ipython",
    "version": 3
   },
   "file_extension": ".py",
   "mimetype": "text/x-python",
   "name": "python",
   "nbconvert_exporter": "python",
   "pygments_lexer": "ipython3",
   "version": "3.12.9"
  }
 },
 "nbformat": 4,
 "nbformat_minor": 2
}
